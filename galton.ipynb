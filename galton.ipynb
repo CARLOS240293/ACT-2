{
  "nbformat": 4,
  "nbformat_minor": 0,
  "metadata": {
    "colab": {
      "provenance": [],
      "authorship_tag": "ABX9TyOKer0RjpQdN20V2ig/w17e",
      "include_colab_link": true
    },
    "kernelspec": {
      "name": "python3",
      "display_name": "Python 3"
    },
    "language_info": {
      "name": "python"
    }
  },
  "cells": [
    {
      "cell_type": "markdown",
      "metadata": {
        "id": "view-in-github",
        "colab_type": "text"
      },
      "source": [
        "<a href=\"https://colab.research.google.com/github/CARLOS240293/ACT-2/blob/main/galton.ipynb\" target=\"_parent\"><img src=\"https://colab.research.google.com/assets/colab-badge.svg\" alt=\"Open In Colab\"/></a>"
      ]
    },
    {
      "cell_type": "code",
      "execution_count": null,
      "metadata": {
        "id": "8mWiiR2Sij1C"
      },
      "outputs": [],
      "source": [
        "#maquina de galton con 3000 canicas\n",
        "import random\n",
        "import matplotlib.pyplot as plt\n",
        "\n",
        "def galton_machine(num_marbles, num_levels):\n",
        "    \"\"\"Simula una máquina de Galton y devuelve un histograma de resultados.\n",
        "\n",
        "    Args:\n",
        "        num_marbles: Número de canicas a soltar.\n",
        "        num_levels: Número de niveles de obstáculos.\n",
        "\n",
        "    Returns:\n",
        "        Un diccionario que contiene la cantidad de canicas en cada contenedor.\n",
        "    \"\"\"\n",
        "\n",
        "    results = {}\n",
        "    for _ in range(num_marbles):\n",
        "        position = 0\n",
        "        for _ in range(num_levels):\n",
        "            if random.random() < 0.5:\n",
        "                position += 1\n",
        "        if position not in results:\n",
        "            results[position] = 0\n",
        "        results[position] += 1\n",
        "    return results\n",
        "\n",
        "\n",
        "def plot_histogram(results):\n",
        "    \"\"\"Crea un histograma de los resultados de la máquina de Galton.\"\"\"\n",
        "\n",
        "    plt.bar(results.keys(), results.values())\n",
        "    plt.xlabel(\"Contenedor\")\n",
        "    plt.ylabel(\"Cantidad de canicas\")\n",
        "    plt.title(\"Resultados de la máquina de Galton\")\n",
        "    plt.show()\n",
        "\n",
        "\n",
        "# Número de canicas y niveles de obstáculos\n",
        "num_marbles = 3000\n",
        "num_levels = 12\n",
        "\n",
        "# Ejecuta la simulación y crea el histograma\n",
        "results = galton_machine(num_marbles, num_levels)\n",
        "plot_histogram(results)\n",
        "\n"
      ]
    }
  ]
}