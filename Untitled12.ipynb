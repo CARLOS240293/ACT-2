{
  "nbformat": 4,
  "nbformat_minor": 0,
  "metadata": {
    "colab": {
      "provenance": [],
      "authorship_tag": "ABX9TyPmZburHKibkVdhIa5nI9es",
      "include_colab_link": true
    },
    "kernelspec": {
      "name": "python3",
      "display_name": "Python 3"
    },
    "language_info": {
      "name": "python"
    }
  },
  "cells": [
    {
      "cell_type": "markdown",
      "metadata": {
        "id": "view-in-github",
        "colab_type": "text"
      },
      "source": [
        "<a href=\"https://colab.research.google.com/github/CARLOS240293/ACT-2/blob/main/Untitled12.ipynb\" target=\"_parent\"><img src=\"https://colab.research.google.com/assets/colab-badge.svg\" alt=\"Open In Colab\"/></a>"
      ]
    },
    {
      "cell_type": "code",
      "execution_count": null,
      "metadata": {
        "id": "R-qCpMdbG-ex"
      },
      "outputs": [],
      "source": [
        "# prompt: mantener en ejecucion la simulacion de maquina de galton de 3000 canicas con 12 niveles de obtaculos decide si caera a un lado o a otro 12 veces resultado final un histograma que represente la cantidad de canicas en cada contenedor pon nombre a los ejes y titulo al grafico emplea 2 funciones una para los resultados de las canicas y otra para la graficacion del histograma estar en ejecucion siempre\n",
        "\n",
        "import random\n",
        "import matplotlib.pyplot as plt\n",
        "import numpy as np\n",
        "\n",
        "def simular_maquina_galton(num_canicas, num_niveles):\n",
        "  \"\"\"Simula la máquina de Galton y devuelve la lista de contenedores donde caen las canicas.\n",
        "\n",
        "  Args:\n",
        "    num_canicas: El número de canicas a soltar.\n",
        "    num_niveles: El número de niveles de obstáculos.\n",
        "\n",
        "  Returns:\n",
        "    Una lista donde cada elemento representa el contenedor donde cayó una canica.\n",
        "  \"\"\"\n",
        "  resultados = []\n",
        "  for _ in range(num_canicas):\n",
        "    posicion = 0\n",
        "    for _ in range(num_niveles):\n",
        "      if random.random() < 0.5:\n",
        "        posicion += 1\n",
        "    resultados.append(posicion)\n",
        "  return resultados\n",
        "\n",
        "\n",
        "def graficar_histograma(resultados, num_niveles):\n",
        "  \"\"\"Grafica un histograma de la distribución de las canicas en los contenedores.\n",
        "\n",
        "  Args:\n",
        "    resultados: Una lista con los contenedores donde cayó cada canica.\n",
        "    num_niveles: El número de niveles de obstáculos.\n",
        "  \"\"\"\n",
        "  plt.figure(figsize=(10, 6))\n",
        "  plt.hist(resultados, bins=range(num_niveles + 2), align='left', rwidth=0.8)\n",
        "  plt.xlabel(\"Contenedor\")\n",
        "  plt.ylabel(\"Número de Canicas\")\n",
        "  plt.title(\"Distribución de Canicas en la Máquina de Galton\")\n",
        "  plt.show()\n",
        "\n",
        "\n",
        "# Simulación continua\n",
        "while True:\n",
        "  resultados = simular_maquina_galton(3000, 12)\n",
        "  graficar_histograma(resultados, 12)\n",
        "\n"
      ]
    },
    {
      "cell_type": "code",
      "source": [],
      "metadata": {
        "id": "uy0AvzZrQnGi"
      },
      "execution_count": null,
      "outputs": []
    }
  ]
}