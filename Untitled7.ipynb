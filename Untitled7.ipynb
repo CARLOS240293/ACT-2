{
  "nbformat": 4,
  "nbformat_minor": 0,
  "metadata": {
    "colab": {
      "provenance": [],
      "authorship_tag": "ABX9TyN22pJ7r1DoPOlu5BnljF4W",
      "include_colab_link": true
    },
    "kernelspec": {
      "name": "python3",
      "display_name": "Python 3"
    },
    "language_info": {
      "name": "python"
    }
  },
  "cells": [
    {
      "cell_type": "markdown",
      "metadata": {
        "id": "view-in-github",
        "colab_type": "text"
      },
      "source": [
        "<a href=\"https://colab.research.google.com/github/CARLOS240293/ACT-2/blob/main/Untitled7.ipynb\" target=\"_parent\"><img src=\"https://colab.research.google.com/assets/colab-badge.svg\" alt=\"Open In Colab\"/></a>"
      ]
    },
    {
      "cell_type": "code",
      "execution_count": null,
      "metadata": {
        "id": "9YCtvMbhvBvn"
      },
      "outputs": [],
      "source": [
        "#PROGRAMA PARA VALIDAR PALABRAS DE ACUERDO A SU LONGITUD SI LA PALABRA INGRESADA ES MENOR DE 4 Y MAYOR DE 8 CARACTERES LA PALABRA ES INCORRECTA ESTANDO EN ESE RANGO SERA CORRECTA\n",
        "num_palabras = int(input(\"Ingrese el número de palabras: \"))\n",
        "correctas = 0\n",
        "incorrectas = 0\n",
        "\n",
        "for i in range(num_palabras):\n",
        "  palabra = input(\"Ingrese una palabra: \")\n",
        "  if len(palabra) < 4:\n",
        "    print(\"Hacen falta letras.\")\n",
        "    incorrectas += 1\n",
        "  elif len(palabra) > 8:\n",
        "    print(\"Sobran letras.\")\n",
        "    incorrectas += 1\n",
        "  else:\n",
        "    print(\"La palabra es correcta.\")\n",
        "    correctas += 1\n",
        "\n",
        "print(\"\\nPalabras correctas:\", correctas)\n",
        "print(\"Palabras incorrectas:\", incorrectas)\n",
        "\n",
        "input(\"Presione ENTER para salir...\")"
      ]
    },
    {
      "cell_type": "code",
      "source": [],
      "metadata": {
        "id": "LPoPJ0fDvjIn"
      },
      "execution_count": null,
      "outputs": []
    }
  ]
}